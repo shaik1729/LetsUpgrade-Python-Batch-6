{
 "cells": [
  {
   "cell_type": "markdown",
   "metadata": {},
   "source": [
    "#back slash"
   ]
  },
  {
   "cell_type": "code",
   "execution_count": 67,
   "metadata": {},
   "outputs": [
    {
     "ename": "SyntaxError",
     "evalue": "EOL while scanning string literal (<ipython-input-67-29c122c005dc>, line 1)",
     "output_type": "error",
     "traceback": [
      "\u001b[1;36m  File \u001b[1;32m\"<ipython-input-67-29c122c005dc>\"\u001b[1;36m, line \u001b[1;32m1\u001b[0m\n\u001b[1;33m    print(\"Hello\u001b[0m\n\u001b[1;37m                ^\u001b[0m\n\u001b[1;31mSyntaxError\u001b[0m\u001b[1;31m:\u001b[0m EOL while scanning string literal\n"
     ]
    }
   ],
   "source": [
    "print(\"Hello\n",
    "python\")\n",
    "\n",
    "      #this gives an error\n",
    "      #to oercome this error we can use slash\n"
   ]
  },
  {
   "cell_type": "code",
   "execution_count": 68,
   "metadata": {},
   "outputs": [
    {
     "name": "stdout",
     "output_type": "stream",
     "text": [
      "Hello python\n"
     ]
    }
   ],
   "source": [
    "print(\"Hello \\\n",
    "python\")"
   ]
  },
  {
   "cell_type": "code",
   "execution_count": 69,
   "metadata": {},
   "outputs": [
    {
     "name": "stdout",
     "output_type": "stream",
     "text": [
      " Hello ebery one \n"
     ]
    }
   ],
   "source": [
    "print(\"\"\" Hello ebery one \"\"\")"
   ]
  },
  {
   "cell_type": "code",
   "execution_count": 70,
   "metadata": {},
   "outputs": [
    {
     "name": "stdout",
     "output_type": "stream",
     "text": [
      "new8\n",
      "♥♥♥♥♥♥♥♥♥♥♥♥♥♥♥♥♥♥♥♥♥♥♥♥♥\n",
      "♥┏┓╭━━╮┏╮╭┓╭━━╮▇♥Just take my hand .\n",
      "♥┃┃┃╭╮┃┃┃┃┃┃╭╮┃▇♥Fall in love with me again!\n",
      "♥┃┃┃╰╯┃┃╰╯┃┃┗┛┃▇♥Let’s run away to the\n",
      "♥┃┃╰━━╯╰╮╭╯┃┏━┛▇♥place when love first found us.\n",
      "♥┃┗━━━━━╰╯┓┃┗━┓▇♥Let’s run away for the day .\n",
      "♥┗━━━━━━━━┛╰━━╯▇♥don’t need anyone around us\n",
      "♥♥♥♥♥♥♥♥♥♥♥♥♥♥♥♥♥♥♥♥♥♥♥♥♥scrapu com\n"
     ]
    }
   ],
   "source": [
    "print(\"\"\"new8\n",
    "♥♥♥♥♥♥♥♥♥♥♥♥♥♥♥♥♥♥♥♥♥♥♥♥♥\n",
    "♥┏┓╭━━╮┏╮╭┓╭━━╮▇♥Just take my hand .\n",
    "♥┃┃┃╭╮┃┃┃┃┃┃╭╮┃▇♥Fall in love with me again!\n",
    "♥┃┃┃╰╯┃┃╰╯┃┃┗┛┃▇♥Let’s run away to the\n",
    "♥┃┃╰━━╯╰╮╭╯┃┏━┛▇♥place when love first found us.\n",
    "♥┃┗━━━━━╰╯┓┃┗━┓▇♥Let’s run away for the day .\n",
    "♥┗━━━━━━━━┛╰━━╯▇♥don’t need anyone around us\n",
    "♥♥♥♥♥♥♥♥♥♥♥♥♥♥♥♥♥♥♥♥♥♥♥♥♥scrapu com\"\"\")\n",
    "\n",
    "# triple cotes will print everything in it exactly."
   ]
  },
  {
   "cell_type": "raw",
   "metadata": {},
   "source": [
    "# doc string\n",
    "\n",
    "\"\"\" this is a python file\"\"\"\n"
   ]
  },
  {
   "cell_type": "markdown",
   "metadata": {},
   "source": [
    "string inside the quotes."
   ]
  },
  {
   "cell_type": "code",
   "execution_count": 9,
   "metadata": {},
   "outputs": [
    {
     "ename": "SyntaxError",
     "evalue": "invalid syntax (<ipython-input-9-3f3d487a621e>, line 1)",
     "output_type": "error",
     "traceback": [
      "\u001b[1;36m  File \u001b[1;32m\"<ipython-input-9-3f3d487a621e>\"\u001b[1;36m, line \u001b[1;32m1\u001b[0m\n\u001b[1;33m    print('python's world')\u001b[0m\n\u001b[1;37m                  ^\u001b[0m\n\u001b[1;31mSyntaxError\u001b[0m\u001b[1;31m:\u001b[0m invalid syntax\n"
     ]
    }
   ],
   "source": [
    "print('python's world')          # this gives an error because the quote is also ended"
   ]
  },
  {
   "cell_type": "code",
   "execution_count": null,
   "metadata": {},
   "outputs": [],
   "source": [
    "print(\"python's world\")                # this way we can resolve the situation"
   ]
  },
  {
   "cell_type": "markdown",
   "metadata": {},
   "source": [
    "escape sequence of strings"
   ]
  },
  {
   "cell_type": "code",
   "execution_count": 10,
   "metadata": {},
   "outputs": [
    {
     "name": "stdout",
     "output_type": "stream",
     "text": [
      "hello\tpython\n"
     ]
    }
   ],
   "source": [
    "print(\"hello\\tpython\")          #for tab spacing /t"
   ]
  },
  {
   "cell_type": "code",
   "execution_count": 11,
   "metadata": {},
   "outputs": [
    {
     "name": "stdout",
     "output_type": "stream",
     "text": [
      "hello\n",
      "python\n"
     ]
    }
   ],
   "source": [
    "print(\"hello\\npython\")                    #for new line /n"
   ]
  },
  {
   "cell_type": "code",
   "execution_count": 12,
   "metadata": {},
   "outputs": [
    {
     "name": "stdout",
     "output_type": "stream",
     "text": [
      "hello\u0007python\n"
     ]
    }
   ],
   "source": [
    "print(\"hello\\apython\")                                    #to set a sound we use /a"
   ]
  },
  {
   "cell_type": "code",
   "execution_count": 13,
   "metadata": {},
   "outputs": [
    {
     "name": "stdout",
     "output_type": "stream",
     "text": [
      "python's class\n"
     ]
    }
   ],
   "source": [
    "print('python\\'s class')                                   #\\' escapes the ' "
   ]
  },
  {
   "cell_type": "code",
   "execution_count": 22,
   "metadata": {},
   "outputs": [
    {
     "name": "stdout",
     "output_type": "stream",
     "text": [
      "the name is  xyz age is  20 marks are  99.897\n"
     ]
    }
   ],
   "source": [
    "name = \"xyz\"\n",
    "marks = 99.897\n",
    "age = 20\n",
    "print(\"the name is \",name,\"age is \",age,\"marks are \",marks)\n",
    "\n",
    "#using camma "
   ]
  },
  {
   "cell_type": "code",
   "execution_count": 26,
   "metadata": {},
   "outputs": [
    {
     "name": "stdout",
     "output_type": "stream",
     "text": [
      "the name is        xyz age is         20 marks are      99.90\n"
     ]
    }
   ],
   "source": [
    "print(\"the name is %10s age is %10d marks are %10.2f\"%(name,age,marks))   #using %"
   ]
  },
  {
   "cell_type": "code",
   "execution_count": 28,
   "metadata": {},
   "outputs": [
    {
     "name": "stdout",
     "output_type": "stream",
     "text": [
      "the name person is xyz marks 99.897 age is 20\n"
     ]
    }
   ],
   "source": [
    "#f string\n",
    "\n",
    "print(f\"the name person is {name} marks {marks} age is {age}\")"
   ]
  },
  {
   "cell_type": "code",
   "execution_count": 29,
   "metadata": {},
   "outputs": [
    {
     "ename": "SyntaxError",
     "evalue": "invalid syntax (<ipython-input-29-58c45c0883b5>, line 1)",
     "output_type": "error",
     "traceback": [
      "\u001b[1;36m  File \u001b[1;32m\"<ipython-input-29-58c45c0883b5>\"\u001b[1;36m, line \u001b[1;32m1\u001b[0m\n\u001b[1;33m    if = 10 #gives an error because a variable should not have the keywords\u001b[0m\n\u001b[1;37m       ^\u001b[0m\n\u001b[1;31mSyntaxError\u001b[0m\u001b[1;31m:\u001b[0m invalid syntax\n"
     ]
    }
   ],
   "source": [
    "if = 10 #gives an error because a variable should not have the keywords\n",
    "10 = 20 #gives an erroe because a value shouldn't be a variable"
   ]
  },
  {
   "cell_type": "code",
   "execution_count": 32,
   "metadata": {},
   "outputs": [],
   "source": [
    "if1 = 10\n",
    "_10 = 20\n",
    "\n",
    "x = y = z = 10"
   ]
  },
  {
   "cell_type": "code",
   "execution_count": 33,
   "metadata": {},
   "outputs": [
    {
     "data": {
      "text/plain": [
       "140707114689200"
      ]
     },
     "execution_count": 33,
     "metadata": {},
     "output_type": "execute_result"
    }
   ],
   "source": [
    "id(x) #gives the address of the variable"
   ]
  },
  {
   "cell_type": "code",
   "execution_count": 35,
   "metadata": {},
   "outputs": [
    {
     "data": {
      "text/plain": [
       "140707114689200"
      ]
     },
     "execution_count": 35,
     "metadata": {},
     "output_type": "execute_result"
    }
   ],
   "source": [
    "id(y) # both x and y have the same address because the values are same but the varables are different we can access the valueby x or y both gives the same output"
   ]
  },
  {
   "cell_type": "code",
   "execution_count": 39,
   "metadata": {},
   "outputs": [
    {
     "ename": "NameError",
     "evalue": "name 'x' is not defined",
     "output_type": "error",
     "traceback": [
      "\u001b[1;31m---------------------------------------------------------------------------\u001b[0m",
      "\u001b[1;31mNameError\u001b[0m                                 Traceback (most recent call last)",
      "\u001b[1;32m<ipython-input-39-560fb6e621d6>\u001b[0m in \u001b[0;36m<module>\u001b[1;34m\u001b[0m\n\u001b[0;32m      1\u001b[0m \u001b[1;31m#deleting the values\u001b[0m\u001b[1;33m\u001b[0m\u001b[1;33m\u001b[0m\u001b[1;33m\u001b[0m\u001b[0m\n\u001b[0;32m      2\u001b[0m \u001b[1;33m\u001b[0m\u001b[0m\n\u001b[1;32m----> 3\u001b[1;33m \u001b[1;32mdel\u001b[0m \u001b[0mx\u001b[0m\u001b[1;33m\u001b[0m\u001b[1;33m\u001b[0m\u001b[0m\n\u001b[0m\u001b[0;32m      4\u001b[0m \u001b[1;33m\u001b[0m\u001b[0m\n\u001b[0;32m      5\u001b[0m \u001b[0mprint\u001b[0m\u001b[1;33m(\u001b[0m\u001b[0mx\u001b[0m\u001b[1;33m)\u001b[0m \u001b[1;31m#gives error because the x is deleted just now\u001b[0m\u001b[1;33m\u001b[0m\u001b[1;33m\u001b[0m\u001b[0m\n",
      "\u001b[1;31mNameError\u001b[0m: name 'x' is not defined"
     ]
    }
   ],
   "source": [
    "#deleting the values\n",
    "\n",
    "del x\n",
    "\n",
    "print(x) #gives error because the x is deleted just now"
   ]
  },
  {
   "cell_type": "code",
   "execution_count": 66,
   "metadata": {},
   "outputs": [
    {
     "name": "stdout",
     "output_type": "stream",
     "text": [
      "30\n",
      "-10\n",
      "200\n",
      "0.5\n",
      "10\n",
      "0\n",
      "100000000000000000000\n"
     ]
    }
   ],
   "source": [
    "#arthamatic operators\n",
    "\n",
    "a = 10\n",
    "b = 20\n",
    "\n",
    "sum = a + b\n",
    "sub = a - b\n",
    "mul = a * b\n",
    "mod = a % b\n",
    "div = a / b\n",
    "floor_div = a // b\n",
    "power = a ** b\n",
    "\n",
    "print(sum)\n",
    "print(sub)\n",
    "print(mul)\n",
    "print(div)\n",
    "print(mod)\n",
    "print(floor_div)\n",
    "print(power)"
   ]
  },
  {
   "cell_type": "code",
   "execution_count": 42,
   "metadata": {},
   "outputs": [
    {
     "name": "stdout",
     "output_type": "stream",
     "text": [
      "False\n",
      "True\n",
      "False\n",
      "True\n",
      "False\n",
      "True\n"
     ]
    }
   ],
   "source": [
    "#comparison operator\n",
    "\n",
    "# i am taking the same values\n",
    "\n",
    "a = 10\n",
    "b = 20\n",
    "\n",
    "print(a == b)\n",
    "print(a != b)\n",
    "print(a > b)\n",
    "print(a < b)\n",
    "print(a >= b)\n",
    "print(a <= b)"
   ]
  },
  {
   "cell_type": "code",
   "execution_count": 51,
   "metadata": {},
   "outputs": [
    {
     "name": "stdout",
     "output_type": "stream",
     "text": [
      "10 10\n",
      "20 10\n",
      "10 10\n",
      "100 10\n",
      "10.0 10\n",
      "10000000000.0 10\n"
     ]
    }
   ],
   "source": [
    "#assignemt operator\n",
    "\n",
    "a = 10\n",
    "b = a #assigning the value\n",
    "\n",
    "print(a, b) #initial values\n",
    "a += b\n",
    "print(a,b) #after doing +\n",
    "a -= b\n",
    "print(a,b) #after doing -\n",
    "a *= b\n",
    "print(a,b) #after doing *\n",
    "a /= b\n",
    "print(a,b) #after doing /\n",
    "a **= b\n",
    "print(a,b) #after doing **\n"
   ]
  },
  {
   "cell_type": "code",
   "execution_count": 53,
   "metadata": {},
   "outputs": [
    {
     "name": "stdout",
     "output_type": "stream",
     "text": [
      "241\n",
      "0\n"
     ]
    }
   ],
   "source": [
    "#bitwise operators\n",
    "\n",
    "a = 240\n",
    "b = 1\n",
    "\n",
    "print(a | b)\n",
    "print(a & b)"
   ]
  },
  {
   "cell_type": "code",
   "execution_count": 58,
   "metadata": {},
   "outputs": [
    {
     "name": "stdout",
     "output_type": "stream",
     "text": [
      "True\n",
      "False\n",
      "True\n"
     ]
    }
   ],
   "source": [
    "#logical operators\n",
    "\n",
    "a = 10\n",
    "b = 20\n",
    "\n",
    "print(a > b or a < b)\n",
    "print(a == b or a > b)\n",
    "print(a < b and a != b)"
   ]
  },
  {
   "cell_type": "code",
   "execution_count": 64,
   "metadata": {},
   "outputs": [
    {
     "name": "stdout",
     "output_type": "stream",
     "text": [
      "True\n",
      "False\n"
     ]
    },
    {
     "data": {
      "text/plain": [
       "True"
      ]
     },
     "execution_count": 64,
     "metadata": {},
     "output_type": "execute_result"
    }
   ],
   "source": [
    "#membership operator\n",
    "\n",
    "str = \"anyname\"\n",
    "print(\"a\" in str)\n",
    "print(\"a\" not in str)\n",
    "\n",
    "# identity operators\n",
    "a = 10\n",
    "b = 10\n",
    "\n",
    "a is b"
   ]
  },
  {
   "cell_type": "code",
   "execution_count": null,
   "metadata": {},
   "outputs": [],
   "source": [
    "# thank you for having such a wounderful class i loves it."
   ]
  }
 ],
 "metadata": {
  "kernelspec": {
   "display_name": "Python 3",
   "language": "python",
   "name": "python3"
  },
  "language_info": {
   "codemirror_mode": {
    "name": "ipython",
    "version": 3
   },
   "file_extension": ".py",
   "mimetype": "text/x-python",
   "name": "python",
   "nbconvert_exporter": "python",
   "pygments_lexer": "ipython3",
   "version": "3.7.6"
  }
 },
 "nbformat": 4,
 "nbformat_minor": 4
}
